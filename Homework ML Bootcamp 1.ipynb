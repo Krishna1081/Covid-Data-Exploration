{
  "metadata": {
    "kernelspec": {
      "name": "python",
      "display_name": "Python (Pyodide)",
      "language": "python"
    },
    "language_info": {
      "codemirror_mode": {
        "name": "python",
        "version": 3
      },
      "file_extension": ".py",
      "mimetype": "text/x-python",
      "name": "python",
      "nbconvert_exporter": "python",
      "pygments_lexer": "ipython3",
      "version": "3.8"
    }
  },
  "nbformat_minor": 4,
  "nbformat": 4,
  "cells": [
    {
      "cell_type": "code",
      "source": "import pandas as pd\npd.__version__",
      "metadata": {
        "trusted": true
      },
      "outputs": [
        {
          "execution_count": 3,
          "output_type": "execute_result",
          "data": {
            "text/plain": "'1.5.3'"
          },
          "metadata": {}
        }
      ],
      "execution_count": 3
    },
    {
      "cell_type": "code",
      "source": "df = pd.read_csv(\"housing.csv\")\ndf.columns",
      "metadata": {
        "trusted": true
      },
      "outputs": [
        {
          "execution_count": 10,
          "output_type": "execute_result",
          "data": {
            "text/plain": "Index(['longitude', 'latitude', 'housing_median_age', 'total_rooms',\n       'total_bedrooms', 'population', 'households', 'median_income',\n       'median_house_value', 'ocean_proximity'],\n      dtype='object')"
          },
          "metadata": {}
        }
      ],
      "execution_count": 10
    },
    {
      "cell_type": "code",
      "source": "df",
      "metadata": {
        "trusted": true
      },
      "outputs": [
        {
          "execution_count": 27,
          "output_type": "execute_result",
          "data": {
            "text/plain": "       longitude  latitude  housing_median_age  total_rooms  total_bedrooms  \\\n0        -122.23     37.88                41.0        880.0           129.0   \n1        -122.22     37.86                21.0       7099.0          1106.0   \n2        -122.24     37.85                52.0       1467.0           190.0   \n3        -122.25     37.85                52.0       1274.0           235.0   \n4        -122.25     37.85                52.0       1627.0           280.0   \n...          ...       ...                 ...          ...             ...   \n20635    -121.09     39.48                25.0       1665.0           374.0   \n20636    -121.21     39.49                18.0        697.0           150.0   \n20637    -121.22     39.43                17.0       2254.0           485.0   \n20638    -121.32     39.43                18.0       1860.0           409.0   \n20639    -121.24     39.37                16.0       2785.0           616.0   \n\n       population  households  median_income  median_house_value  \\\n0           322.0       126.0         8.3252            452600.0   \n1          2401.0      1138.0         8.3014            358500.0   \n2           496.0       177.0         7.2574            352100.0   \n3           558.0       219.0         5.6431            341300.0   \n4           565.0       259.0         3.8462            342200.0   \n...           ...         ...            ...                 ...   \n20635       845.0       330.0         1.5603             78100.0   \n20636       356.0       114.0         2.5568             77100.0   \n20637      1007.0       433.0         1.7000             92300.0   \n20638       741.0       349.0         1.8672             84700.0   \n20639      1387.0       530.0         2.3886             89400.0   \n\n      ocean_proximity  \n0            NEAR BAY  \n1            NEAR BAY  \n2            NEAR BAY  \n3            NEAR BAY  \n4            NEAR BAY  \n...               ...  \n20635          INLAND  \n20636          INLAND  \n20637          INLAND  \n20638          INLAND  \n20639          INLAND  \n\n[20640 rows x 10 columns]",
            "text/html": "<div>\n<style scoped>\n    .dataframe tbody tr th:only-of-type {\n        vertical-align: middle;\n    }\n\n    .dataframe tbody tr th {\n        vertical-align: top;\n    }\n\n    .dataframe thead th {\n        text-align: right;\n    }\n</style>\n<table border=\"1\" class=\"dataframe\">\n  <thead>\n    <tr style=\"text-align: right;\">\n      <th></th>\n      <th>longitude</th>\n      <th>latitude</th>\n      <th>housing_median_age</th>\n      <th>total_rooms</th>\n      <th>total_bedrooms</th>\n      <th>population</th>\n      <th>households</th>\n      <th>median_income</th>\n      <th>median_house_value</th>\n      <th>ocean_proximity</th>\n    </tr>\n  </thead>\n  <tbody>\n    <tr>\n      <th>0</th>\n      <td>-122.23</td>\n      <td>37.88</td>\n      <td>41.0</td>\n      <td>880.0</td>\n      <td>129.0</td>\n      <td>322.0</td>\n      <td>126.0</td>\n      <td>8.3252</td>\n      <td>452600.0</td>\n      <td>NEAR BAY</td>\n    </tr>\n    <tr>\n      <th>1</th>\n      <td>-122.22</td>\n      <td>37.86</td>\n      <td>21.0</td>\n      <td>7099.0</td>\n      <td>1106.0</td>\n      <td>2401.0</td>\n      <td>1138.0</td>\n      <td>8.3014</td>\n      <td>358500.0</td>\n      <td>NEAR BAY</td>\n    </tr>\n    <tr>\n      <th>2</th>\n      <td>-122.24</td>\n      <td>37.85</td>\n      <td>52.0</td>\n      <td>1467.0</td>\n      <td>190.0</td>\n      <td>496.0</td>\n      <td>177.0</td>\n      <td>7.2574</td>\n      <td>352100.0</td>\n      <td>NEAR BAY</td>\n    </tr>\n    <tr>\n      <th>3</th>\n      <td>-122.25</td>\n      <td>37.85</td>\n      <td>52.0</td>\n      <td>1274.0</td>\n      <td>235.0</td>\n      <td>558.0</td>\n      <td>219.0</td>\n      <td>5.6431</td>\n      <td>341300.0</td>\n      <td>NEAR BAY</td>\n    </tr>\n    <tr>\n      <th>4</th>\n      <td>-122.25</td>\n      <td>37.85</td>\n      <td>52.0</td>\n      <td>1627.0</td>\n      <td>280.0</td>\n      <td>565.0</td>\n      <td>259.0</td>\n      <td>3.8462</td>\n      <td>342200.0</td>\n      <td>NEAR BAY</td>\n    </tr>\n    <tr>\n      <th>...</th>\n      <td>...</td>\n      <td>...</td>\n      <td>...</td>\n      <td>...</td>\n      <td>...</td>\n      <td>...</td>\n      <td>...</td>\n      <td>...</td>\n      <td>...</td>\n      <td>...</td>\n    </tr>\n    <tr>\n      <th>20635</th>\n      <td>-121.09</td>\n      <td>39.48</td>\n      <td>25.0</td>\n      <td>1665.0</td>\n      <td>374.0</td>\n      <td>845.0</td>\n      <td>330.0</td>\n      <td>1.5603</td>\n      <td>78100.0</td>\n      <td>INLAND</td>\n    </tr>\n    <tr>\n      <th>20636</th>\n      <td>-121.21</td>\n      <td>39.49</td>\n      <td>18.0</td>\n      <td>697.0</td>\n      <td>150.0</td>\n      <td>356.0</td>\n      <td>114.0</td>\n      <td>2.5568</td>\n      <td>77100.0</td>\n      <td>INLAND</td>\n    </tr>\n    <tr>\n      <th>20637</th>\n      <td>-121.22</td>\n      <td>39.43</td>\n      <td>17.0</td>\n      <td>2254.0</td>\n      <td>485.0</td>\n      <td>1007.0</td>\n      <td>433.0</td>\n      <td>1.7000</td>\n      <td>92300.0</td>\n      <td>INLAND</td>\n    </tr>\n    <tr>\n      <th>20638</th>\n      <td>-121.32</td>\n      <td>39.43</td>\n      <td>18.0</td>\n      <td>1860.0</td>\n      <td>409.0</td>\n      <td>741.0</td>\n      <td>349.0</td>\n      <td>1.8672</td>\n      <td>84700.0</td>\n      <td>INLAND</td>\n    </tr>\n    <tr>\n      <th>20639</th>\n      <td>-121.24</td>\n      <td>39.37</td>\n      <td>16.0</td>\n      <td>2785.0</td>\n      <td>616.0</td>\n      <td>1387.0</td>\n      <td>530.0</td>\n      <td>2.3886</td>\n      <td>89400.0</td>\n      <td>INLAND</td>\n    </tr>\n  </tbody>\n</table>\n<p>20640 rows × 10 columns</p>\n</div>"
          },
          "metadata": {}
        }
      ],
      "execution_count": 27
    },
    {
      "cell_type": "code",
      "source": "df.shape",
      "metadata": {
        "trusted": true
      },
      "outputs": [
        {
          "execution_count": 12,
          "output_type": "execute_result",
          "data": {
            "text/plain": "(20640, 10)"
          },
          "metadata": {}
        }
      ],
      "execution_count": 12
    },
    {
      "cell_type": "code",
      "source": "df.isnull().sum()",
      "metadata": {
        "trusted": true
      },
      "outputs": [
        {
          "execution_count": 15,
          "output_type": "execute_result",
          "data": {
            "text/plain": "longitude               0\nlatitude                0\nhousing_median_age      0\ntotal_rooms             0\ntotal_bedrooms        207\npopulation              0\nhouseholds              0\nmedian_income           0\nmedian_house_value      0\nocean_proximity         0\ndtype: int64"
          },
          "metadata": {}
        }
      ],
      "execution_count": 15
    },
    {
      "cell_type": "code",
      "source": "df[\"ocean_proximity\"].unique()",
      "metadata": {
        "trusted": true
      },
      "outputs": [
        {
          "execution_count": 18,
          "output_type": "execute_result",
          "data": {
            "text/plain": "array(['NEAR BAY', '<1H OCEAN', 'INLAND', 'NEAR OCEAN', 'ISLAND'],\n      dtype=object)"
          },
          "metadata": {}
        }
      ],
      "execution_count": 18
    },
    {
      "cell_type": "code",
      "source": "l = []\nfor i in range(len(df)):\n    if(df[\"ocean_proximity\"][i] == \"NEAR BAY\"):\n        l.append(df[\"median_house_value\"][i])\naverage = sum(l)/len(l)\nround(average)",
      "metadata": {
        "trusted": true
      },
      "outputs": [
        {
          "execution_count": 29,
          "output_type": "execute_result",
          "data": {
            "text/plain": "259212"
          },
          "metadata": {}
        }
      ],
      "execution_count": 29
    },
    {
      "cell_type": "code",
      "source": "import statistics as st",
      "metadata": {
        "trusted": true
      },
      "outputs": [],
      "execution_count": 32
    },
    {
      "cell_type": "code",
      "source": "removed_na = df[\"total_bedrooms\"].dropna()\nround(st.mean(removed_na))",
      "metadata": {
        "trusted": true
      },
      "outputs": [
        {
          "execution_count": 38,
          "output_type": "execute_result",
          "data": {
            "text/plain": "538"
          },
          "metadata": {}
        }
      ],
      "execution_count": 38
    },
    {
      "cell_type": "code",
      "source": "df[\"total_bedrooms\"] = df[\"total_bedrooms\"].fillna(538)",
      "metadata": {
        "trusted": true
      },
      "outputs": [],
      "execution_count": 41
    },
    {
      "cell_type": "code",
      "source": "round(st.mean(df[\"total_bedrooms\"]))",
      "metadata": {
        "trusted": true
      },
      "outputs": [
        {
          "execution_count": 42,
          "output_type": "execute_result",
          "data": {
            "text/plain": "538"
          },
          "metadata": {}
        }
      ],
      "execution_count": 42
    },
    {
      "cell_type": "markdown",
      "source": "- Select all the options located on islands.\n- Select only columns housing_median_age, total_rooms, total_bedrooms.\n- Get the underlying NumPy array. Let's call it X.\n- Compute matrix-matrix multiplication between the transpose of X and X. To get the transpose, use X.T. Let's call the result XTX.\n- Compute the inverse of XTX.\n- Create an array y with values [950, 1300, 800, 1000, 1300].\n- Multiply the inverse of XTX with the transpose of X, and then multiply the result by y. Call the result w.\n- What's the value of the last element of w?",
      "metadata": {}
    },
    {
      "cell_type": "code",
      "source": "import numpy as np",
      "metadata": {
        "trusted": true
      },
      "outputs": [],
      "execution_count": 44
    },
    {
      "cell_type": "code",
      "source": "import numpy as np\n\n# Convert DataFrame to NumPy array, selecting only the specified columns\nselected_columns = ['housing_median_age', 'total_rooms', 'total_bedrooms']\nX = df[selected_columns].values\n\n# Compute matrix-matrix multiplication between the transpose of X and X\nXTX = np.dot(X.T, X)\n\n# Compute the inverse of XTX\nXTX_inv = np.linalg.inv(XTX)\n\n# Create array y\ny = np.array([950, 1300, 800, 1000, 1300])\n\n# Reshape y to a column vector with the same number of rows as X.T\ny = y.reshape(-1, 1)\n\n# Compute w\nw = np.dot(np.dot(XTX_inv, X.T), y)\n\n# Print the value of the last element of w\nprint(\"Value of the last element of w:\", w[-1][0])",
      "metadata": {
        "trusted": true
      },
      "outputs": [
        {
          "ename": "<class 'ValueError'>",
          "evalue": "shapes (3,20640) and (5,1) not aligned: 20640 (dim 1) != 5 (dim 0)",
          "traceback": [
            "\u001b[0;31m---------------------------------------------------------------------------\u001b[0m",
            "\u001b[0;31mValueError\u001b[0m                                Traceback (most recent call last)",
            "Cell \u001b[0;32mIn[50], line 20\u001b[0m\n\u001b[1;32m     17\u001b[0m y \u001b[38;5;241m=\u001b[39m y\u001b[38;5;241m.\u001b[39mreshape(\u001b[38;5;241m-\u001b[39m\u001b[38;5;241m1\u001b[39m, \u001b[38;5;241m1\u001b[39m)\n\u001b[1;32m     19\u001b[0m \u001b[38;5;66;03m# Compute w\u001b[39;00m\n\u001b[0;32m---> 20\u001b[0m w \u001b[38;5;241m=\u001b[39m \u001b[43mnp\u001b[49m\u001b[38;5;241;43m.\u001b[39;49m\u001b[43mdot\u001b[49m\u001b[43m(\u001b[49m\u001b[43mnp\u001b[49m\u001b[38;5;241;43m.\u001b[39;49m\u001b[43mdot\u001b[49m\u001b[43m(\u001b[49m\u001b[43mXTX_inv\u001b[49m\u001b[43m,\u001b[49m\u001b[43m \u001b[49m\u001b[43mX\u001b[49m\u001b[38;5;241;43m.\u001b[39;49m\u001b[43mT\u001b[49m\u001b[43m)\u001b[49m\u001b[43m,\u001b[49m\u001b[43m \u001b[49m\u001b[43my\u001b[49m\u001b[43m)\u001b[49m\n\u001b[1;32m     22\u001b[0m \u001b[38;5;66;03m# Print the value of the last element of w\u001b[39;00m\n\u001b[1;32m     23\u001b[0m \u001b[38;5;28mprint\u001b[39m(\u001b[38;5;124m\"\u001b[39m\u001b[38;5;124mValue of the last element of w:\u001b[39m\u001b[38;5;124m\"\u001b[39m, w[\u001b[38;5;241m-\u001b[39m\u001b[38;5;241m1\u001b[39m][\u001b[38;5;241m0\u001b[39m])\n",
            "\u001b[0;31mValueError\u001b[0m: shapes (3,20640) and (5,1) not aligned: 20640 (dim 1) != 5 (dim 0)"
          ],
          "output_type": "error"
        }
      ],
      "execution_count": 50
    },
    {
      "cell_type": "code",
      "source": "",
      "metadata": {
        "trusted": true
      },
      "outputs": [],
      "execution_count": null
    }
  ]
}